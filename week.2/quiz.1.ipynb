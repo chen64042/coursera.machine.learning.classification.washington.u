{
 "cells": [
  {
   "cell_type": "code",
   "execution_count": 40,
   "metadata": {},
   "outputs": [
    {
     "name": "stdout",
     "output_type": "stream",
     "text": [
      "0.23\n"
     ]
    }
   ],
   "source": [
    "from math import exp\n",
    "\n",
    "sigmoid = lambda score: 1.0/(1+exp(-score))\n",
    "score = lambda x, w0, w1: w1*x + w0\n",
    "\n",
    "inputs = {2.5:1, 0.3:-1, 2.8:1, 0.5:1}\n",
    "\n",
    "product = 1\n",
    "\n",
    "for key in inputs.keys():\n",
    "    if (inputs[key] == 1):\n",
    "        product *= sigmoid(score(key, 0, 1))\n",
    "    else:\n",
    "        product *= (1-sigmoid(score(key, 0, 1)))\n",
    "\n",
    "print \"%3.2f\" % product\n"
   ]
  },
  {
   "cell_type": "code",
   "execution_count": 43,
   "metadata": {},
   "outputs": [
    {
     "name": "stdout",
     "output_type": "stream",
     "text": [
      "0.37\n"
     ]
    }
   ],
   "source": [
    "import math\n",
    "\n",
    "log_sum = 0\n",
    "\n",
    "for key in inputs.keys():\n",
    "    value = score(key, 0, 1)\n",
    "    if (inputs[key] == 1):\n",
    "        log_sum += value*(1-sigmoid(value))\n",
    "    else:\n",
    "        log_sum += value*(0-sigmoid(value))\n",
    "\n",
    "print \"%3.2f\" % log_sum\n",
    "\n"
   ]
  }
 ],
 "metadata": {
  "kernelspec": {
   "display_name": "Python 2",
   "language": "python",
   "name": "python2"
  },
  "language_info": {
   "codemirror_mode": {
    "name": "ipython",
    "version": 2
   },
   "file_extension": ".py",
   "mimetype": "text/x-python",
   "name": "python",
   "nbconvert_exporter": "python",
   "pygments_lexer": "ipython2",
   "version": "2.7.15"
  }
 },
 "nbformat": 4,
 "nbformat_minor": 2
}
