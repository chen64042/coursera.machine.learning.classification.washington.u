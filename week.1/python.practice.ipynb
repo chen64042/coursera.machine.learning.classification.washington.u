{
 "cells": [
  {
   "cell_type": "code",
   "execution_count": 24,
   "metadata": {},
   "outputs": [],
   "source": [
    "class Solution(object):\n",
    "    def findMedian(self, list_1, list_2):\n",
    "        isEvenCount = (len(list_1)+len(list_2))%2 == 0\n",
    "\n",
    "        list_merge = sorted(list_1 + list_2)\n",
    "        count = len(list_merge)\n",
    "\n",
    "        if isEvenCount:\n",
    "            return (list_merge[(int)(count/2)]+list_merge[(int)(count/2)-1])/2\n",
    "        else:\n",
    "            return list_merge[(int)(count/2)]\n",
    "    \n",
    "        return None"
   ]
  },
  {
   "cell_type": "code",
   "execution_count": 28,
   "metadata": {},
   "outputs": [
    {
     "name": "stdout",
     "output_type": "stream",
     "text": [
      "3\n"
     ]
    }
   ],
   "source": [
    "s = Solution()\n",
    "\n",
    "print s.findMedian([2,3], [1, 3, 5])\n"
   ]
  },
  {
   "cell_type": "code",
   "execution_count": 29,
   "metadata": {},
   "outputs": [
    {
     "ename": "SyntaxError",
     "evalue": "invalid syntax (<ipython-input-29-c21029b1bd23>, line 20)",
     "output_type": "error",
     "traceback": [
      "\u001b[0;36m  File \u001b[0;32m\"<ipython-input-29-c21029b1bd23>\"\u001b[0;36m, line \u001b[0;32m20\u001b[0m\n\u001b[0;31m    return median\u001b[0m\n\u001b[0m         ^\u001b[0m\n\u001b[0;31mSyntaxError\u001b[0m\u001b[0;31m:\u001b[0m invalid syntax\n"
     ]
    }
   ],
   "source": [
    "class Solution(object):\n",
    "    def findMedianSortedArrays(self, nums1, nums2):\n",
    "        \"\"\"\n",
    "        :type nums1: List[int]\n",
    "        :type nums2: List[int]\n",
    "        :rtype: float\n",
    "        \"\"\"\n",
    "        # even number of elements\n",
    "        isEvenCount = (len(nums1)+len(nums2))%2 == 0\n",
    "        \n",
    "        nums = nums1.append(nums2).sorted()\n",
    "        count = len(nums)\n",
    "        median = None\n",
    "        \n",
    "        if isEventCount:\n",
    "            median = (nums[(int)(count/2)] + nums[(int)(count/2)-1])/2.0\n",
    "        else:\n",
    "            median = (nums[(int)(count/2)]\n",
    "        \n",
    "        return median\n",
    "            "
   ]
  },
  {
   "cell_type": "code",
   "execution_count": 43,
   "metadata": {},
   "outputs": [
    {
     "data": {
      "text/plain": [
       "0.4166666666666667"
      ]
     },
     "execution_count": 43,
     "metadata": {},
     "output_type": "execute_result"
    }
   ],
   "source": [
    "import numpy as np\n",
    "\n",
    "\n",
    "(-181+np.sqrt((181**2)-4*84*(-90)))/(2*84)"
   ]
  },
  {
   "cell_type": "code",
   "execution_count": 1,
   "metadata": {},
   "outputs": [
    {
     "data": {
      "text/plain": [
       "23.0"
      ]
     },
     "execution_count": 1,
     "metadata": {},
     "output_type": "execute_result"
    }
   ],
   "source": [
    "# Observation\n",
    "# For any integer a, b, c to exist and satisfy sqrt(A-B*sqrt(C)) = a + b*sqrt(c). \n",
    "# The result of A**2 - (B*sqrt(C))**2 must be a perfect square, where A, C are positive integers while B is an integer\n",
    "# How do I prove it?\n"
   ]
  },
  {
   "cell_type": "code",
   "execution_count": null,
   "metadata": {},
   "outputs": [],
   "source": [
    "25+9+30"
   ]
  }
 ],
 "metadata": {
  "kernelspec": {
   "display_name": "Python 2",
   "language": "python",
   "name": "python2"
  },
  "language_info": {
   "codemirror_mode": {
    "name": "ipython",
    "version": 2
   },
   "file_extension": ".py",
   "mimetype": "text/x-python",
   "name": "python",
   "nbconvert_exporter": "python",
   "pygments_lexer": "ipython2",
   "version": "2.7.15"
  }
 },
 "nbformat": 4,
 "nbformat_minor": 2
}
